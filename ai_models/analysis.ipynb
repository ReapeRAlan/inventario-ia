{
 "cells": [
  {
   "cell_type": "code",
   "execution_count": null,
   "metadata": {},
   "outputs": [],
   "source": [
    "import pandas as pd\n",
    "import matplotlib.pyplot as plt\n",
    "\n",
    "# Cargar datos\n",
    "inventario = pd.read_csv('data/inventory_data.csv')\n",
    "ventas = pd.read_csv('data/sales_data.csv')\n",
    "\n",
    "# Análisis de datos\n",
    "print(inventario.head())\n",
    "print(ventas.head())\n",
    "\n",
    "# Visualización\n",
    "plt.plot(ventas['fecha_venta'], ventas['cantidad'])\n",
    "plt.xlabel('Fecha de Venta')\n",
    "plt.ylabel('Cantidad Vendida')\n",
    "plt.show()\n"
   ]
  }
 ],
 "metadata": {
  "language_info": {
   "name": "python"
  }
 },
 "nbformat": 4,
 "nbformat_minor": 2
}
